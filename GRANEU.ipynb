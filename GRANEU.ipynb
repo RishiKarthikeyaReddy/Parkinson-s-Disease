{
 "cells": [
  {
   "cell_type": "code",
   "execution_count": 1,
   "metadata": {
    "colab": {
     "base_uri": "https://localhost:8080/"
    },
    "executionInfo": {
     "elapsed": 5490,
     "status": "ok",
     "timestamp": 1695217780994,
     "user": {
      "displayName": "Obaid Shaik",
      "userId": "14140449860982082300"
     },
     "user_tz": -330
    },
    "id": "UZdYRyDlQPQs",
    "outputId": "b41eb496-015c-43d4-e9ff-28b6313a36a2"
   },
   "outputs": [],
   "source": [
    "# from google.colab import drive\n",
    "# drive.mount('/content/drive')"
   ]
  },
  {
   "cell_type": "code",
   "execution_count": 1,
   "metadata": {
    "executionInfo": {
     "elapsed": 20,
     "status": "ok",
     "timestamp": 1695217780996,
     "user": {
      "displayName": "Obaid Shaik",
      "userId": "14140449860982082300"
     },
     "user_tz": -330
    },
    "id": "R9AovjTvPsJZ"
   },
   "outputs": [],
   "source": [
    "import numpy as np\n",
    "import pandas as pd\n",
    "from sklearn.preprocessing import StandardScaler\n",
    "from sklearn.impute import SimpleImputer\n",
    "from sklearn.feature_selection import SelectKBest\n",
    "from sklearn.preprocessing import LabelEncoder"
   ]
  },
  {
   "cell_type": "code",
   "execution_count": 2,
   "metadata": {
    "colab": {
     "base_uri": "https://localhost:8080/",
     "height": 206
    },
    "executionInfo": {
     "elapsed": 19,
     "status": "ok",
     "timestamp": 1695217780997,
     "user": {
      "displayName": "Obaid Shaik",
      "userId": "14140449860982082300"
     },
     "user_tz": -330
    },
    "id": "vWJT8DhFPsJb",
    "outputId": "9f8fc5f1-7d6f-4c3d-a040-b537134e9e8c"
   },
   "outputs": [
    {
     "data": {
      "text/html": [
       "<div>\n",
       "<style scoped>\n",
       "    .dataframe tbody tr th:only-of-type {\n",
       "        vertical-align: middle;\n",
       "    }\n",
       "\n",
       "    .dataframe tbody tr th {\n",
       "        vertical-align: top;\n",
       "    }\n",
       "\n",
       "    .dataframe thead th {\n",
       "        text-align: right;\n",
       "    }\n",
       "</style>\n",
       "<table border=\"1\" class=\"dataframe\">\n",
       "  <thead>\n",
       "    <tr style=\"text-align: right;\">\n",
       "      <th></th>\n",
       "      <th>visit_id</th>\n",
       "      <th>visit_month</th>\n",
       "      <th>patient_id</th>\n",
       "      <th>UniProt</th>\n",
       "      <th>NPX</th>\n",
       "    </tr>\n",
       "  </thead>\n",
       "  <tbody>\n",
       "    <tr>\n",
       "      <th>0</th>\n",
       "      <td>55_0</td>\n",
       "      <td>0</td>\n",
       "      <td>55</td>\n",
       "      <td>O00391</td>\n",
       "      <td>11254.3</td>\n",
       "    </tr>\n",
       "    <tr>\n",
       "      <th>1</th>\n",
       "      <td>55_0</td>\n",
       "      <td>0</td>\n",
       "      <td>55</td>\n",
       "      <td>O00533</td>\n",
       "      <td>732430.0</td>\n",
       "    </tr>\n",
       "    <tr>\n",
       "      <th>2</th>\n",
       "      <td>55_0</td>\n",
       "      <td>0</td>\n",
       "      <td>55</td>\n",
       "      <td>O00584</td>\n",
       "      <td>39585.8</td>\n",
       "    </tr>\n",
       "    <tr>\n",
       "      <th>3</th>\n",
       "      <td>55_0</td>\n",
       "      <td>0</td>\n",
       "      <td>55</td>\n",
       "      <td>O14498</td>\n",
       "      <td>41526.9</td>\n",
       "    </tr>\n",
       "    <tr>\n",
       "      <th>4</th>\n",
       "      <td>55_0</td>\n",
       "      <td>0</td>\n",
       "      <td>55</td>\n",
       "      <td>O14773</td>\n",
       "      <td>31238.0</td>\n",
       "    </tr>\n",
       "  </tbody>\n",
       "</table>\n",
       "</div>"
      ],
      "text/plain": [
       "  visit_id  visit_month  patient_id UniProt       NPX\n",
       "0     55_0            0          55  O00391   11254.3\n",
       "1     55_0            0          55  O00533  732430.0\n",
       "2     55_0            0          55  O00584   39585.8\n",
       "3     55_0            0          55  O14498   41526.9\n",
       "4     55_0            0          55  O14773   31238.0"
      ]
     },
     "execution_count": 2,
     "metadata": {},
     "output_type": "execute_result"
    }
   ],
   "source": [
    "proteins_data = pd.read_csv('./train_proteins.csv')\n",
    "proteins_data.head()"
   ]
  },
  {
   "cell_type": "code",
   "execution_count": 3,
   "metadata": {
    "colab": {
     "base_uri": "https://localhost:8080/",
     "height": 226
    },
    "executionInfo": {
     "elapsed": 869,
     "status": "ok",
     "timestamp": 1695217781850,
     "user": {
      "displayName": "Obaid Shaik",
      "userId": "14140449860982082300"
     },
     "user_tz": -330
    },
    "id": "mc3B_fdFPsJc",
    "outputId": "18543512-b6ba-4289-cafb-5a78d0c21648"
   },
   "outputs": [
    {
     "data": {
      "text/html": [
       "<div>\n",
       "<style scoped>\n",
       "    .dataframe tbody tr th:only-of-type {\n",
       "        vertical-align: middle;\n",
       "    }\n",
       "\n",
       "    .dataframe tbody tr th {\n",
       "        vertical-align: top;\n",
       "    }\n",
       "\n",
       "    .dataframe thead th {\n",
       "        text-align: right;\n",
       "    }\n",
       "</style>\n",
       "<table border=\"1\" class=\"dataframe\">\n",
       "  <thead>\n",
       "    <tr style=\"text-align: right;\">\n",
       "      <th></th>\n",
       "      <th>visit_id</th>\n",
       "      <th>visit_month</th>\n",
       "      <th>patient_id</th>\n",
       "      <th>UniProt</th>\n",
       "      <th>Peptide</th>\n",
       "      <th>PeptideAbundance</th>\n",
       "    </tr>\n",
       "  </thead>\n",
       "  <tbody>\n",
       "    <tr>\n",
       "      <th>0</th>\n",
       "      <td>55_0</td>\n",
       "      <td>0</td>\n",
       "      <td>55</td>\n",
       "      <td>O00391</td>\n",
       "      <td>NEQEQPLGQWHLS</td>\n",
       "      <td>11254.3</td>\n",
       "    </tr>\n",
       "    <tr>\n",
       "      <th>1</th>\n",
       "      <td>55_0</td>\n",
       "      <td>0</td>\n",
       "      <td>55</td>\n",
       "      <td>O00533</td>\n",
       "      <td>GNPEPTFSWTK</td>\n",
       "      <td>102060.0</td>\n",
       "    </tr>\n",
       "    <tr>\n",
       "      <th>2</th>\n",
       "      <td>55_0</td>\n",
       "      <td>0</td>\n",
       "      <td>55</td>\n",
       "      <td>O00533</td>\n",
       "      <td>IEIPSSVQQVPTIIK</td>\n",
       "      <td>174185.0</td>\n",
       "    </tr>\n",
       "    <tr>\n",
       "      <th>3</th>\n",
       "      <td>55_0</td>\n",
       "      <td>0</td>\n",
       "      <td>55</td>\n",
       "      <td>O00533</td>\n",
       "      <td>KPQSAVYSTGSNGILLC(UniMod_4)EAEGEPQPTIK</td>\n",
       "      <td>27278.9</td>\n",
       "    </tr>\n",
       "    <tr>\n",
       "      <th>4</th>\n",
       "      <td>55_0</td>\n",
       "      <td>0</td>\n",
       "      <td>55</td>\n",
       "      <td>O00533</td>\n",
       "      <td>SMEQNGPGLEYR</td>\n",
       "      <td>30838.7</td>\n",
       "    </tr>\n",
       "  </tbody>\n",
       "</table>\n",
       "</div>"
      ],
      "text/plain": [
       "  visit_id  visit_month  patient_id UniProt  \\\n",
       "0     55_0            0          55  O00391   \n",
       "1     55_0            0          55  O00533   \n",
       "2     55_0            0          55  O00533   \n",
       "3     55_0            0          55  O00533   \n",
       "4     55_0            0          55  O00533   \n",
       "\n",
       "                                  Peptide  PeptideAbundance  \n",
       "0                           NEQEQPLGQWHLS           11254.3  \n",
       "1                             GNPEPTFSWTK          102060.0  \n",
       "2                         IEIPSSVQQVPTIIK          174185.0  \n",
       "3  KPQSAVYSTGSNGILLC(UniMod_4)EAEGEPQPTIK           27278.9  \n",
       "4                            SMEQNGPGLEYR           30838.7  "
      ]
     },
     "execution_count": 3,
     "metadata": {},
     "output_type": "execute_result"
    }
   ],
   "source": [
    "peptides_data = pd.read_csv('./train_peptides.csv')\n",
    "peptides_data.head()"
   ]
  },
  {
   "cell_type": "code",
   "execution_count": 4,
   "metadata": {
    "colab": {
     "base_uri": "https://localhost:8080/",
     "height": 226
    },
    "executionInfo": {
     "elapsed": 65,
     "status": "ok",
     "timestamp": 1695217781852,
     "user": {
      "displayName": "Obaid Shaik",
      "userId": "14140449860982082300"
     },
     "user_tz": -330
    },
    "id": "LHMkPikQPsJc",
    "outputId": "71c53fcd-3ae0-41fc-fa83-ce4cf60898e3"
   },
   "outputs": [
    {
     "data": {
      "text/html": [
       "<div>\n",
       "<style scoped>\n",
       "    .dataframe tbody tr th:only-of-type {\n",
       "        vertical-align: middle;\n",
       "    }\n",
       "\n",
       "    .dataframe tbody tr th {\n",
       "        vertical-align: top;\n",
       "    }\n",
       "\n",
       "    .dataframe thead th {\n",
       "        text-align: right;\n",
       "    }\n",
       "</style>\n",
       "<table border=\"1\" class=\"dataframe\">\n",
       "  <thead>\n",
       "    <tr style=\"text-align: right;\">\n",
       "      <th></th>\n",
       "      <th>visit_id</th>\n",
       "      <th>patient_id</th>\n",
       "      <th>visit_month</th>\n",
       "      <th>updrs_1</th>\n",
       "      <th>updrs_2</th>\n",
       "      <th>updrs_3</th>\n",
       "      <th>updrs_4</th>\n",
       "      <th>upd23b_clinical_state_on_medication</th>\n",
       "    </tr>\n",
       "  </thead>\n",
       "  <tbody>\n",
       "    <tr>\n",
       "      <th>0</th>\n",
       "      <td>55_0</td>\n",
       "      <td>55</td>\n",
       "      <td>0</td>\n",
       "      <td>10.0</td>\n",
       "      <td>6.0</td>\n",
       "      <td>15.0</td>\n",
       "      <td>NaN</td>\n",
       "      <td>NaN</td>\n",
       "    </tr>\n",
       "    <tr>\n",
       "      <th>1</th>\n",
       "      <td>55_3</td>\n",
       "      <td>55</td>\n",
       "      <td>3</td>\n",
       "      <td>10.0</td>\n",
       "      <td>7.0</td>\n",
       "      <td>25.0</td>\n",
       "      <td>NaN</td>\n",
       "      <td>NaN</td>\n",
       "    </tr>\n",
       "    <tr>\n",
       "      <th>2</th>\n",
       "      <td>55_6</td>\n",
       "      <td>55</td>\n",
       "      <td>6</td>\n",
       "      <td>8.0</td>\n",
       "      <td>10.0</td>\n",
       "      <td>34.0</td>\n",
       "      <td>NaN</td>\n",
       "      <td>NaN</td>\n",
       "    </tr>\n",
       "    <tr>\n",
       "      <th>3</th>\n",
       "      <td>55_9</td>\n",
       "      <td>55</td>\n",
       "      <td>9</td>\n",
       "      <td>8.0</td>\n",
       "      <td>9.0</td>\n",
       "      <td>30.0</td>\n",
       "      <td>0.0</td>\n",
       "      <td>On</td>\n",
       "    </tr>\n",
       "    <tr>\n",
       "      <th>4</th>\n",
       "      <td>55_12</td>\n",
       "      <td>55</td>\n",
       "      <td>12</td>\n",
       "      <td>10.0</td>\n",
       "      <td>10.0</td>\n",
       "      <td>41.0</td>\n",
       "      <td>0.0</td>\n",
       "      <td>On</td>\n",
       "    </tr>\n",
       "  </tbody>\n",
       "</table>\n",
       "</div>"
      ],
      "text/plain": [
       "  visit_id  patient_id  visit_month  updrs_1  updrs_2  updrs_3  updrs_4  \\\n",
       "0     55_0          55            0     10.0      6.0     15.0      NaN   \n",
       "1     55_3          55            3     10.0      7.0     25.0      NaN   \n",
       "2     55_6          55            6      8.0     10.0     34.0      NaN   \n",
       "3     55_9          55            9      8.0      9.0     30.0      0.0   \n",
       "4    55_12          55           12     10.0     10.0     41.0      0.0   \n",
       "\n",
       "  upd23b_clinical_state_on_medication  \n",
       "0                                 NaN  \n",
       "1                                 NaN  \n",
       "2                                 NaN  \n",
       "3                                  On  \n",
       "4                                  On  "
      ]
     },
     "execution_count": 4,
     "metadata": {},
     "output_type": "execute_result"
    }
   ],
   "source": [
    "clinical_data = pd.read_csv('./train_clinical_data(1).csv')\n",
    "clinical_data.head()"
   ]
  },
  {
   "cell_type": "code",
   "execution_count": 5,
   "metadata": {
    "colab": {
     "base_uri": "https://localhost:8080/"
    },
    "executionInfo": {
     "elapsed": 65,
     "status": "ok",
     "timestamp": 1695217781856,
     "user": {
      "displayName": "Obaid Shaik",
      "userId": "14140449860982082300"
     },
     "user_tz": -330
    },
    "id": "cZt9mhheIshR",
    "outputId": "56ecff2a-13c8-43af-c7c7-3d9aba256bfd"
   },
   "outputs": [
    {
     "data": {
      "text/plain": [
       "(2615, 8)"
      ]
     },
     "execution_count": 5,
     "metadata": {},
     "output_type": "execute_result"
    }
   ],
   "source": [
    "\n",
    "clinical_data.shape"
   ]
  },
  {
   "cell_type": "code",
   "execution_count": 6,
   "metadata": {
    "colab": {
     "base_uri": "https://localhost:8080/"
    },
    "executionInfo": {
     "elapsed": 60,
     "status": "ok",
     "timestamp": 1695217781857,
     "user": {
      "displayName": "Obaid Shaik",
      "userId": "14140449860982082300"
     },
     "user_tz": -330
    },
    "id": "WVGghXt8IwHS",
    "outputId": "0d8fbcd8-0e90-4676-af91-bd7bdefd6db2"
   },
   "outputs": [
    {
     "data": {
      "text/plain": [
       "visit_id                                  0\n",
       "patient_id                                0\n",
       "visit_month                               0\n",
       "updrs_1                                   1\n",
       "updrs_2                                   2\n",
       "updrs_3                                  25\n",
       "updrs_4                                1038\n",
       "upd23b_clinical_state_on_medication    1327\n",
       "dtype: int64"
      ]
     },
     "execution_count": 6,
     "metadata": {},
     "output_type": "execute_result"
    }
   ],
   "source": [
    "clinical_data.isnull().sum()"
   ]
  },
  {
   "cell_type": "code",
   "execution_count": 7,
   "metadata": {
    "colab": {
     "base_uri": "https://localhost:8080/",
     "height": 226
    },
    "executionInfo": {
     "elapsed": 58,
     "status": "ok",
     "timestamp": 1695217781860,
     "user": {
      "displayName": "Obaid Shaik",
      "userId": "14140449860982082300"
     },
     "user_tz": -330
    },
    "id": "213FWfngDIWc",
    "outputId": "9a504167-36ea-4b2f-a666-ee1d34567509"
   },
   "outputs": [
    {
     "data": {
      "text/html": [
       "<div>\n",
       "<style scoped>\n",
       "    .dataframe tbody tr th:only-of-type {\n",
       "        vertical-align: middle;\n",
       "    }\n",
       "\n",
       "    .dataframe tbody tr th {\n",
       "        vertical-align: top;\n",
       "    }\n",
       "\n",
       "    .dataframe thead th {\n",
       "        text-align: right;\n",
       "    }\n",
       "</style>\n",
       "<table border=\"1\" class=\"dataframe\">\n",
       "  <thead>\n",
       "    <tr style=\"text-align: right;\">\n",
       "      <th></th>\n",
       "      <th>visit_id</th>\n",
       "      <th>patient_id</th>\n",
       "      <th>visit_month</th>\n",
       "      <th>updrs_1</th>\n",
       "      <th>updrs_2</th>\n",
       "      <th>updrs_3</th>\n",
       "      <th>updrs_4</th>\n",
       "      <th>upd23b_clinical_state_on_medication</th>\n",
       "    </tr>\n",
       "  </thead>\n",
       "  <tbody>\n",
       "    <tr>\n",
       "      <th>0</th>\n",
       "      <td>35_0</td>\n",
       "      <td>35</td>\n",
       "      <td>0</td>\n",
       "      <td>5.0</td>\n",
       "      <td>3.0</td>\n",
       "      <td>16.0</td>\n",
       "      <td>0.0</td>\n",
       "      <td>NaN</td>\n",
       "    </tr>\n",
       "    <tr>\n",
       "      <th>1</th>\n",
       "      <td>35_36</td>\n",
       "      <td>35</td>\n",
       "      <td>36</td>\n",
       "      <td>6.0</td>\n",
       "      <td>4.0</td>\n",
       "      <td>20.0</td>\n",
       "      <td>0.0</td>\n",
       "      <td>NaN</td>\n",
       "    </tr>\n",
       "    <tr>\n",
       "      <th>2</th>\n",
       "      <td>75_0</td>\n",
       "      <td>75</td>\n",
       "      <td>0</td>\n",
       "      <td>4.0</td>\n",
       "      <td>6.0</td>\n",
       "      <td>26.0</td>\n",
       "      <td>0.0</td>\n",
       "      <td>NaN</td>\n",
       "    </tr>\n",
       "    <tr>\n",
       "      <th>3</th>\n",
       "      <td>75_36</td>\n",
       "      <td>75</td>\n",
       "      <td>36</td>\n",
       "      <td>1.0</td>\n",
       "      <td>8.0</td>\n",
       "      <td>38.0</td>\n",
       "      <td>0.0</td>\n",
       "      <td>On</td>\n",
       "    </tr>\n",
       "    <tr>\n",
       "      <th>4</th>\n",
       "      <td>155_0</td>\n",
       "      <td>155</td>\n",
       "      <td>0</td>\n",
       "      <td>NaN</td>\n",
       "      <td>NaN</td>\n",
       "      <td>0.0</td>\n",
       "      <td>NaN</td>\n",
       "      <td>NaN</td>\n",
       "    </tr>\n",
       "  </tbody>\n",
       "</table>\n",
       "</div>"
      ],
      "text/plain": [
       "  visit_id  patient_id  visit_month  updrs_1  updrs_2  updrs_3  updrs_4  \\\n",
       "0     35_0          35            0      5.0      3.0     16.0      0.0   \n",
       "1    35_36          35           36      6.0      4.0     20.0      0.0   \n",
       "2     75_0          75            0      4.0      6.0     26.0      0.0   \n",
       "3    75_36          75           36      1.0      8.0     38.0      0.0   \n",
       "4    155_0         155            0      NaN      NaN      0.0      NaN   \n",
       "\n",
       "  upd23b_clinical_state_on_medication  \n",
       "0                                 NaN  \n",
       "1                                 NaN  \n",
       "2                                 NaN  \n",
       "3                                  On  \n",
       "4                                 NaN  "
      ]
     },
     "execution_count": 7,
     "metadata": {},
     "output_type": "execute_result"
    }
   ],
   "source": [
    "supplemental_data = pd.read_csv('./supplemental_clinical_data(1).csv')\n",
    "supplemental_data.head()"
   ]
  },
  {
   "cell_type": "code",
   "execution_count": 8,
   "metadata": {
    "colab": {
     "base_uri": "https://localhost:8080/"
    },
    "executionInfo": {
     "elapsed": 55,
     "status": "ok",
     "timestamp": 1695217781861,
     "user": {
      "displayName": "Obaid Shaik",
      "userId": "14140449860982082300"
     },
     "user_tz": -330
    },
    "id": "uG1sJZ6aDiIi",
    "outputId": "e81f78c0-788d-445f-b125-deb807d62eab"
   },
   "outputs": [
    {
     "data": {
      "text/plain": [
       "(2223, 8)"
      ]
     },
     "execution_count": 8,
     "metadata": {},
     "output_type": "execute_result"
    }
   ],
   "source": [
    "supplemental_data.shape"
   ]
  },
  {
   "cell_type": "code",
   "execution_count": 9,
   "metadata": {
    "colab": {
     "base_uri": "https://localhost:8080/"
    },
    "executionInfo": {
     "elapsed": 51,
     "status": "ok",
     "timestamp": 1695217781863,
     "user": {
      "displayName": "Obaid Shaik",
      "userId": "14140449860982082300"
     },
     "user_tz": -330
    },
    "id": "6KW8s4jNDlcg",
    "outputId": "c0982bb8-8e4b-4ade-c763-306d85c7f7b4"
   },
   "outputs": [
    {
     "data": {
      "text/plain": [
       "visit_id                                  0\n",
       "patient_id                                0\n",
       "visit_month                               0\n",
       "updrs_1                                 213\n",
       "updrs_2                                 214\n",
       "updrs_3                                   5\n",
       "updrs_4                                 928\n",
       "upd23b_clinical_state_on_medication    1101\n",
       "dtype: int64"
      ]
     },
     "execution_count": 9,
     "metadata": {},
     "output_type": "execute_result"
    }
   ],
   "source": [
    "supplemental_data.isnull().sum()"
   ]
  },
  {
   "cell_type": "code",
   "execution_count": 10,
   "metadata": {
    "colab": {
     "base_uri": "https://localhost:8080/",
     "height": 226
    },
    "executionInfo": {
     "elapsed": 49,
     "status": "ok",
     "timestamp": 1695217781865,
     "user": {
      "displayName": "Obaid Shaik",
      "userId": "14140449860982082300"
     },
     "user_tz": -330
    },
    "id": "FFYcq_qWPsJc",
    "outputId": "a01b6266-2479-4d38-c268-748db77ec32f"
   },
   "outputs": [
    {
     "data": {
      "text/html": [
       "<div>\n",
       "<style scoped>\n",
       "    .dataframe tbody tr th:only-of-type {\n",
       "        vertical-align: middle;\n",
       "    }\n",
       "\n",
       "    .dataframe tbody tr th {\n",
       "        vertical-align: top;\n",
       "    }\n",
       "\n",
       "    .dataframe thead th {\n",
       "        text-align: right;\n",
       "    }\n",
       "</style>\n",
       "<table border=\"1\" class=\"dataframe\">\n",
       "  <thead>\n",
       "    <tr style=\"text-align: right;\">\n",
       "      <th></th>\n",
       "      <th>visit_id</th>\n",
       "      <th>visit_month</th>\n",
       "      <th>patient_id</th>\n",
       "      <th>UniProt</th>\n",
       "      <th>NPX</th>\n",
       "      <th>Peptide</th>\n",
       "      <th>PeptideAbundance</th>\n",
       "    </tr>\n",
       "  </thead>\n",
       "  <tbody>\n",
       "    <tr>\n",
       "      <th>0</th>\n",
       "      <td>55_0</td>\n",
       "      <td>0</td>\n",
       "      <td>55</td>\n",
       "      <td>O00391</td>\n",
       "      <td>11254.3</td>\n",
       "      <td>NEQEQPLGQWHLS</td>\n",
       "      <td>11254.3</td>\n",
       "    </tr>\n",
       "    <tr>\n",
       "      <th>1</th>\n",
       "      <td>55_0</td>\n",
       "      <td>0</td>\n",
       "      <td>55</td>\n",
       "      <td>O00533</td>\n",
       "      <td>732430.0</td>\n",
       "      <td>GNPEPTFSWTK</td>\n",
       "      <td>102060.0</td>\n",
       "    </tr>\n",
       "    <tr>\n",
       "      <th>2</th>\n",
       "      <td>55_0</td>\n",
       "      <td>0</td>\n",
       "      <td>55</td>\n",
       "      <td>O00533</td>\n",
       "      <td>732430.0</td>\n",
       "      <td>IEIPSSVQQVPTIIK</td>\n",
       "      <td>174185.0</td>\n",
       "    </tr>\n",
       "    <tr>\n",
       "      <th>3</th>\n",
       "      <td>55_0</td>\n",
       "      <td>0</td>\n",
       "      <td>55</td>\n",
       "      <td>O00533</td>\n",
       "      <td>732430.0</td>\n",
       "      <td>KPQSAVYSTGSNGILLC(UniMod_4)EAEGEPQPTIK</td>\n",
       "      <td>27278.9</td>\n",
       "    </tr>\n",
       "    <tr>\n",
       "      <th>4</th>\n",
       "      <td>55_0</td>\n",
       "      <td>0</td>\n",
       "      <td>55</td>\n",
       "      <td>O00533</td>\n",
       "      <td>732430.0</td>\n",
       "      <td>SMEQNGPGLEYR</td>\n",
       "      <td>30838.7</td>\n",
       "    </tr>\n",
       "  </tbody>\n",
       "</table>\n",
       "</div>"
      ],
      "text/plain": [
       "  visit_id  visit_month  patient_id UniProt       NPX  \\\n",
       "0     55_0            0          55  O00391   11254.3   \n",
       "1     55_0            0          55  O00533  732430.0   \n",
       "2     55_0            0          55  O00533  732430.0   \n",
       "3     55_0            0          55  O00533  732430.0   \n",
       "4     55_0            0          55  O00533  732430.0   \n",
       "\n",
       "                                  Peptide  PeptideAbundance  \n",
       "0                           NEQEQPLGQWHLS           11254.3  \n",
       "1                             GNPEPTFSWTK          102060.0  \n",
       "2                         IEIPSSVQQVPTIIK          174185.0  \n",
       "3  KPQSAVYSTGSNGILLC(UniMod_4)EAEGEPQPTIK           27278.9  \n",
       "4                            SMEQNGPGLEYR           30838.7  "
      ]
     },
     "execution_count": 10,
     "metadata": {},
     "output_type": "execute_result"
    }
   ],
   "source": [
    "merge_data = proteins_data.merge(peptides_data[['visit_id', 'UniProt', 'Peptide','PeptideAbundance']], on = ['visit_id','UniProt'], how = 'left')\n",
    "merge_data.head()"
   ]
  },
  {
   "cell_type": "code",
   "execution_count": 11,
   "metadata": {
    "colab": {
     "base_uri": "https://localhost:8080/"
    },
    "executionInfo": {
     "elapsed": 1162,
     "status": "ok",
     "timestamp": 1695217782982,
     "user": {
      "displayName": "Obaid Shaik",
      "userId": "14140449860982082300"
     },
     "user_tz": -330
    },
    "id": "farXVZ0NI8V5",
    "outputId": "d8f4217b-0f14-4099-8527-dc278c98a37b"
   },
   "outputs": [
    {
     "data": {
      "text/plain": [
       "visit_id            0\n",
       "visit_month         0\n",
       "patient_id          0\n",
       "UniProt             0\n",
       "NPX                 0\n",
       "Peptide             0\n",
       "PeptideAbundance    0\n",
       "dtype: int64"
      ]
     },
     "execution_count": 11,
     "metadata": {},
     "output_type": "execute_result"
    }
   ],
   "source": [
    "merge_data.isnull().sum()"
   ]
  },
  {
   "cell_type": "code",
   "execution_count": 12,
   "metadata": {
    "colab": {
     "base_uri": "https://localhost:8080/",
     "height": 206
    },
    "executionInfo": {
     "elapsed": 64,
     "status": "ok",
     "timestamp": 1695217782983,
     "user": {
      "displayName": "Obaid Shaik",
      "userId": "14140449860982082300"
     },
     "user_tz": -330
    },
    "id": "x7vb6RxcPsJd",
    "outputId": "6f252932-5182-4045-8c67-ecfbc1a058e8"
   },
   "outputs": [
    {
     "data": {
      "text/html": [
       "<div>\n",
       "<style scoped>\n",
       "    .dataframe tbody tr th:only-of-type {\n",
       "        vertical-align: middle;\n",
       "    }\n",
       "\n",
       "    .dataframe tbody tr th {\n",
       "        vertical-align: top;\n",
       "    }\n",
       "\n",
       "    .dataframe thead th {\n",
       "        text-align: right;\n",
       "    }\n",
       "</style>\n",
       "<table border=\"1\" class=\"dataframe\">\n",
       "  <thead>\n",
       "    <tr style=\"text-align: right;\">\n",
       "      <th></th>\n",
       "      <th>visit_id</th>\n",
       "      <th>patient_id</th>\n",
       "      <th>visit_month</th>\n",
       "      <th>upd23b_clinical_state_on_medication</th>\n",
       "      <th>updrs</th>\n",
       "      <th>rating</th>\n",
       "    </tr>\n",
       "  </thead>\n",
       "  <tbody>\n",
       "    <tr>\n",
       "      <th>0</th>\n",
       "      <td>55_0</td>\n",
       "      <td>55</td>\n",
       "      <td>0</td>\n",
       "      <td>NaN</td>\n",
       "      <td>updrs_1</td>\n",
       "      <td>10.0</td>\n",
       "    </tr>\n",
       "    <tr>\n",
       "      <th>1</th>\n",
       "      <td>55_3</td>\n",
       "      <td>55</td>\n",
       "      <td>3</td>\n",
       "      <td>NaN</td>\n",
       "      <td>updrs_1</td>\n",
       "      <td>10.0</td>\n",
       "    </tr>\n",
       "    <tr>\n",
       "      <th>2</th>\n",
       "      <td>55_6</td>\n",
       "      <td>55</td>\n",
       "      <td>6</td>\n",
       "      <td>NaN</td>\n",
       "      <td>updrs_1</td>\n",
       "      <td>8.0</td>\n",
       "    </tr>\n",
       "    <tr>\n",
       "      <th>3</th>\n",
       "      <td>55_9</td>\n",
       "      <td>55</td>\n",
       "      <td>9</td>\n",
       "      <td>On</td>\n",
       "      <td>updrs_1</td>\n",
       "      <td>8.0</td>\n",
       "    </tr>\n",
       "    <tr>\n",
       "      <th>4</th>\n",
       "      <td>55_12</td>\n",
       "      <td>55</td>\n",
       "      <td>12</td>\n",
       "      <td>On</td>\n",
       "      <td>updrs_1</td>\n",
       "      <td>10.0</td>\n",
       "    </tr>\n",
       "  </tbody>\n",
       "</table>\n",
       "</div>"
      ],
      "text/plain": [
       "  visit_id  patient_id  visit_month upd23b_clinical_state_on_medication  \\\n",
       "0     55_0          55            0                                 NaN   \n",
       "1     55_3          55            3                                 NaN   \n",
       "2     55_6          55            6                                 NaN   \n",
       "3     55_9          55            9                                  On   \n",
       "4    55_12          55           12                                  On   \n",
       "\n",
       "     updrs  rating  \n",
       "0  updrs_1    10.0  \n",
       "1  updrs_1    10.0  \n",
       "2  updrs_1     8.0  \n",
       "3  updrs_1     8.0  \n",
       "4  updrs_1    10.0  "
      ]
     },
     "execution_count": 12,
     "metadata": {},
     "output_type": "execute_result"
    }
   ],
   "source": [
    "clinical_data = clinical_data.melt(id_vars=['visit_id', 'patient_id', 'visit_month', 'upd23b_clinical_state_on_medication'],\n",
    "                 var_name='updrs', value_name='rating')\n",
    "clinical_data.head()"
   ]
  },
  {
   "cell_type": "code",
   "execution_count": 13,
   "metadata": {
    "colab": {
     "base_uri": "https://localhost:8080/"
    },
    "executionInfo": {
     "elapsed": 54,
     "status": "ok",
     "timestamp": 1695217782984,
     "user": {
      "displayName": "Obaid Shaik",
      "userId": "14140449860982082300"
     },
     "user_tz": -330
    },
    "id": "0jcC1MDrJC89",
    "outputId": "e54fabf5-73f8-44c4-c0c8-052358b567c7"
   },
   "outputs": [
    {
     "data": {
      "text/plain": [
       "visit_id                                  0\n",
       "patient_id                                0\n",
       "visit_month                               0\n",
       "upd23b_clinical_state_on_medication    5308\n",
       "updrs                                     0\n",
       "rating                                 1066\n",
       "dtype: int64"
      ]
     },
     "execution_count": 13,
     "metadata": {},
     "output_type": "execute_result"
    }
   ],
   "source": [
    "clinical_data.isnull().sum()"
   ]
  },
  {
   "cell_type": "code",
   "execution_count": 14,
   "metadata": {
    "colab": {
     "base_uri": "https://localhost:8080/"
    },
    "executionInfo": {
     "elapsed": 47,
     "status": "ok",
     "timestamp": 1695217782985,
     "user": {
      "displayName": "Obaid Shaik",
      "userId": "14140449860982082300"
     },
     "user_tz": -330
    },
    "id": "_8xq3ic5JJ6g",
    "outputId": "59b8316a-10fc-44ce-b64f-6442b622781d"
   },
   "outputs": [
    {
     "name": "stdout",
     "output_type": "stream",
     "text": [
      "<class 'pandas.core.frame.DataFrame'>\n",
      "RangeIndex: 10460 entries, 0 to 10459\n",
      "Data columns (total 6 columns):\n",
      " #   Column                               Non-Null Count  Dtype  \n",
      "---  ------                               --------------  -----  \n",
      " 0   visit_id                             10460 non-null  object \n",
      " 1   patient_id                           10460 non-null  int64  \n",
      " 2   visit_month                          10460 non-null  int64  \n",
      " 3   upd23b_clinical_state_on_medication  5152 non-null   object \n",
      " 4   updrs                                10460 non-null  object \n",
      " 5   rating                               9394 non-null   float64\n",
      "dtypes: float64(1), int64(2), object(3)\n",
      "memory usage: 490.4+ KB\n"
     ]
    },
    {
     "data": {
      "text/plain": [
       "((10460, 6), None)"
      ]
     },
     "execution_count": 14,
     "metadata": {},
     "output_type": "execute_result"
    }
   ],
   "source": [
    "clinical_data.shape,clinical_data.info()"
   ]
  },
  {
   "cell_type": "code",
   "execution_count": 15,
   "metadata": {
    "executionInfo": {
     "elapsed": 43,
     "status": "ok",
     "timestamp": 1695217782987,
     "user": {
      "displayName": "Obaid Shaik",
      "userId": "14140449860982082300"
     },
     "user_tz": -330
    },
    "id": "_wjcsHByJrne"
   },
   "outputs": [],
   "source": [
    "\n",
    "imputer = SimpleImputer(strategy='most_frequent')\n",
    "data_imputed = imputer.fit_transform(clinical_data)\n",
    "clinical_data = pd.DataFrame(data_imputed, columns=clinical_data.columns)\n"
   ]
  },
  {
   "cell_type": "code",
   "execution_count": 16,
   "metadata": {
    "colab": {
     "base_uri": "https://localhost:8080/",
     "height": 206
    },
    "executionInfo": {
     "elapsed": 45,
     "status": "ok",
     "timestamp": 1695217782990,
     "user": {
      "displayName": "Obaid Shaik",
      "userId": "14140449860982082300"
     },
     "user_tz": -330
    },
    "id": "I7HRKvWuD1_w",
    "outputId": "e618c0b3-3d5c-47bf-cf66-0e1557f21dc3"
   },
   "outputs": [
    {
     "data": {
      "text/html": [
       "<div>\n",
       "<style scoped>\n",
       "    .dataframe tbody tr th:only-of-type {\n",
       "        vertical-align: middle;\n",
       "    }\n",
       "\n",
       "    .dataframe tbody tr th {\n",
       "        vertical-align: top;\n",
       "    }\n",
       "\n",
       "    .dataframe thead th {\n",
       "        text-align: right;\n",
       "    }\n",
       "</style>\n",
       "<table border=\"1\" class=\"dataframe\">\n",
       "  <thead>\n",
       "    <tr style=\"text-align: right;\">\n",
       "      <th></th>\n",
       "      <th>visit_id</th>\n",
       "      <th>patient_id</th>\n",
       "      <th>visit_month</th>\n",
       "      <th>upd23b_clinical_state_on_medication</th>\n",
       "      <th>updrs</th>\n",
       "      <th>rating</th>\n",
       "    </tr>\n",
       "  </thead>\n",
       "  <tbody>\n",
       "    <tr>\n",
       "      <th>0</th>\n",
       "      <td>35_0</td>\n",
       "      <td>35</td>\n",
       "      <td>0</td>\n",
       "      <td>NaN</td>\n",
       "      <td>updrs_1</td>\n",
       "      <td>5.0</td>\n",
       "    </tr>\n",
       "    <tr>\n",
       "      <th>1</th>\n",
       "      <td>35_36</td>\n",
       "      <td>35</td>\n",
       "      <td>36</td>\n",
       "      <td>NaN</td>\n",
       "      <td>updrs_1</td>\n",
       "      <td>6.0</td>\n",
       "    </tr>\n",
       "    <tr>\n",
       "      <th>2</th>\n",
       "      <td>75_0</td>\n",
       "      <td>75</td>\n",
       "      <td>0</td>\n",
       "      <td>NaN</td>\n",
       "      <td>updrs_1</td>\n",
       "      <td>4.0</td>\n",
       "    </tr>\n",
       "    <tr>\n",
       "      <th>3</th>\n",
       "      <td>75_36</td>\n",
       "      <td>75</td>\n",
       "      <td>36</td>\n",
       "      <td>On</td>\n",
       "      <td>updrs_1</td>\n",
       "      <td>1.0</td>\n",
       "    </tr>\n",
       "    <tr>\n",
       "      <th>4</th>\n",
       "      <td>155_0</td>\n",
       "      <td>155</td>\n",
       "      <td>0</td>\n",
       "      <td>NaN</td>\n",
       "      <td>updrs_1</td>\n",
       "      <td>NaN</td>\n",
       "    </tr>\n",
       "  </tbody>\n",
       "</table>\n",
       "</div>"
      ],
      "text/plain": [
       "  visit_id  patient_id  visit_month upd23b_clinical_state_on_medication  \\\n",
       "0     35_0          35            0                                 NaN   \n",
       "1    35_36          35           36                                 NaN   \n",
       "2     75_0          75            0                                 NaN   \n",
       "3    75_36          75           36                                  On   \n",
       "4    155_0         155            0                                 NaN   \n",
       "\n",
       "     updrs  rating  \n",
       "0  updrs_1     5.0  \n",
       "1  updrs_1     6.0  \n",
       "2  updrs_1     4.0  \n",
       "3  updrs_1     1.0  \n",
       "4  updrs_1     NaN  "
      ]
     },
     "execution_count": 16,
     "metadata": {},
     "output_type": "execute_result"
    }
   ],
   "source": [
    "supplemental_data = supplemental_data.melt(id_vars=['visit_id', 'patient_id', 'visit_month', 'upd23b_clinical_state_on_medication'],\n",
    "                 var_name='updrs', value_name='rating')\n",
    "supplemental_data.head()"
   ]
  },
  {
   "cell_type": "code",
   "execution_count": 17,
   "metadata": {
    "colab": {
     "base_uri": "https://localhost:8080/"
    },
    "executionInfo": {
     "elapsed": 42,
     "status": "ok",
     "timestamp": 1695217782991,
     "user": {
      "displayName": "Obaid Shaik",
      "userId": "14140449860982082300"
     },
     "user_tz": -330
    },
    "id": "-55xEYV5D2PF",
    "outputId": "07bb6bf7-365f-4d1b-cb9e-fd486e65c8c3"
   },
   "outputs": [
    {
     "data": {
      "text/plain": [
       "visit_id                                  0\n",
       "patient_id                                0\n",
       "visit_month                               0\n",
       "upd23b_clinical_state_on_medication    4404\n",
       "updrs                                     0\n",
       "rating                                 1360\n",
       "dtype: int64"
      ]
     },
     "execution_count": 17,
     "metadata": {},
     "output_type": "execute_result"
    }
   ],
   "source": [
    "supplemental_data.isnull().sum()"
   ]
  },
  {
   "cell_type": "code",
   "execution_count": 18,
   "metadata": {
    "colab": {
     "base_uri": "https://localhost:8080/"
    },
    "executionInfo": {
     "elapsed": 34,
     "status": "ok",
     "timestamp": 1695217782993,
     "user": {
      "displayName": "Obaid Shaik",
      "userId": "14140449860982082300"
     },
     "user_tz": -330
    },
    "id": "HFDdx3BdD2aR",
    "outputId": "555541c4-e2fb-4c44-c993-51608d7b28c8"
   },
   "outputs": [
    {
     "name": "stdout",
     "output_type": "stream",
     "text": [
      "<class 'pandas.core.frame.DataFrame'>\n",
      "RangeIndex: 10460 entries, 0 to 10459\n",
      "Data columns (total 6 columns):\n",
      " #   Column                               Non-Null Count  Dtype \n",
      "---  ------                               --------------  ----- \n",
      " 0   visit_id                             10460 non-null  object\n",
      " 1   patient_id                           10460 non-null  object\n",
      " 2   visit_month                          10460 non-null  object\n",
      " 3   upd23b_clinical_state_on_medication  10460 non-null  object\n",
      " 4   updrs                                10460 non-null  object\n",
      " 5   rating                               10460 non-null  object\n",
      "dtypes: object(6)\n",
      "memory usage: 490.4+ KB\n"
     ]
    },
    {
     "data": {
      "text/plain": [
       "((8892, 6), None)"
      ]
     },
     "execution_count": 18,
     "metadata": {},
     "output_type": "execute_result"
    }
   ],
   "source": [
    "supplemental_data.shape,clinical_data.info()"
   ]
  },
  {
   "cell_type": "code",
   "execution_count": 19,
   "metadata": {
    "executionInfo": {
     "elapsed": 8,
     "status": "ok",
     "timestamp": 1695217785421,
     "user": {
      "displayName": "Obaid Shaik",
      "userId": "14140449860982082300"
     },
     "user_tz": -330
    },
    "id": "d5fBM6X5D2yy"
   },
   "outputs": [],
   "source": [
    "\n",
    "imputer = SimpleImputer(strategy='most_frequent')\n",
    "data_imputed = imputer.fit_transform(supplemental_data)\n",
    "supplemental_data = pd.DataFrame(data_imputed, columns=supplemental_data.columns)\n"
   ]
  },
  {
   "cell_type": "code",
   "execution_count": 20,
   "metadata": {
    "colab": {
     "base_uri": "https://localhost:8080/"
    },
    "executionInfo": {
     "elapsed": 30,
     "status": "ok",
     "timestamp": 1695217786521,
     "user": {
      "displayName": "Obaid Shaik",
      "userId": "14140449860982082300"
     },
     "user_tz": -330
    },
    "id": "zLb9bdGjEPuv",
    "outputId": "d7b7d021-0782-48b4-9cb2-e01f19728463"
   },
   "outputs": [
    {
     "data": {
      "text/plain": [
       "visit_id                               0\n",
       "patient_id                             0\n",
       "visit_month                            0\n",
       "upd23b_clinical_state_on_medication    0\n",
       "updrs                                  0\n",
       "rating                                 0\n",
       "dtype: int64"
      ]
     },
     "execution_count": 20,
     "metadata": {},
     "output_type": "execute_result"
    }
   ],
   "source": [
    "supplemental_data.isnull().sum()"
   ]
  },
  {
   "cell_type": "code",
   "execution_count": 21,
   "metadata": {
    "colab": {
     "base_uri": "https://localhost:8080/"
    },
    "executionInfo": {
     "elapsed": 24,
     "status": "ok",
     "timestamp": 1695217786523,
     "user": {
      "displayName": "Obaid Shaik",
      "userId": "14140449860982082300"
     },
     "user_tz": -330
    },
    "id": "yZvjcToTERX8",
    "outputId": "18187691-381f-4af5-b294-09fff31b66ed"
   },
   "outputs": [
    {
     "data": {
      "text/plain": [
       "(Index(['visit_id', 'patient_id', 'visit_month',\n",
       "        'upd23b_clinical_state_on_medication', 'updrs', 'rating'],\n",
       "       dtype='object'),\n",
       " Index(['visit_id', 'patient_id', 'visit_month',\n",
       "        'upd23b_clinical_state_on_medication', 'updrs', 'rating'],\n",
       "       dtype='object'))"
      ]
     },
     "execution_count": 21,
     "metadata": {},
     "output_type": "execute_result"
    }
   ],
   "source": [
    "supplemental_data.columns,clinical_data.columns"
   ]
  },
  {
   "cell_type": "code",
   "execution_count": 22,
   "metadata": {
    "executionInfo": {
     "elapsed": 19,
     "status": "ok",
     "timestamp": 1695217786525,
     "user": {
      "displayName": "Obaid Shaik",
      "userId": "14140449860982082300"
     },
     "user_tz": -330
    },
    "id": "pn3K7DSoE5EC"
   },
   "outputs": [],
   "source": [
    "merged_df2 = pd.concat([clinical_data, supplemental_data], ignore_index=True)"
   ]
  },
  {
   "cell_type": "code",
   "execution_count": 23,
   "metadata": {
    "colab": {
     "base_uri": "https://localhost:8080/"
    },
    "executionInfo": {
     "elapsed": 20,
     "status": "ok",
     "timestamp": 1695217786527,
     "user": {
      "displayName": "Obaid Shaik",
      "userId": "14140449860982082300"
     },
     "user_tz": -330
    },
    "id": "jgCnYqSEFD72",
    "outputId": "83c5a603-e62e-44a6-d7dd-9a222f6a9347"
   },
   "outputs": [
    {
     "data": {
      "text/plain": [
       "(visit_id                               0\n",
       " patient_id                             0\n",
       " visit_month                            0\n",
       " upd23b_clinical_state_on_medication    0\n",
       " updrs                                  0\n",
       " rating                                 0\n",
       " dtype: int64,\n",
       " (19352, 6))"
      ]
     },
     "execution_count": 23,
     "metadata": {},
     "output_type": "execute_result"
    }
   ],
   "source": [
    "merged_df2.isnull().sum(),merged_df2.shape"
   ]
  },
  {
   "cell_type": "code",
   "execution_count": 24,
   "metadata": {
    "colab": {
     "base_uri": "https://localhost:8080/",
     "height": 226
    },
    "executionInfo": {
     "elapsed": 1884,
     "status": "ok",
     "timestamp": 1695217788396,
     "user": {
      "displayName": "Obaid Shaik",
      "userId": "14140449860982082300"
     },
     "user_tz": -330
    },
    "id": "_2UbUSeUPsJd",
    "outputId": "483e7c4c-7649-4212-9249-fc5b16a0b363"
   },
   "outputs": [
    {
     "data": {
      "text/html": [
       "<div>\n",
       "<style scoped>\n",
       "    .dataframe tbody tr th:only-of-type {\n",
       "        vertical-align: middle;\n",
       "    }\n",
       "\n",
       "    .dataframe tbody tr th {\n",
       "        vertical-align: top;\n",
       "    }\n",
       "\n",
       "    .dataframe thead th {\n",
       "        text-align: right;\n",
       "    }\n",
       "</style>\n",
       "<table border=\"1\" class=\"dataframe\">\n",
       "  <thead>\n",
       "    <tr style=\"text-align: right;\">\n",
       "      <th></th>\n",
       "      <th>visit_id</th>\n",
       "      <th>patient_id</th>\n",
       "      <th>visit_month</th>\n",
       "      <th>on_medication</th>\n",
       "      <th>updrs</th>\n",
       "      <th>rating</th>\n",
       "      <th>NPX</th>\n",
       "      <th>UniProt</th>\n",
       "      <th>Peptide</th>\n",
       "      <th>PeptideAbundance</th>\n",
       "    </tr>\n",
       "  </thead>\n",
       "  <tbody>\n",
       "    <tr>\n",
       "      <th>0</th>\n",
       "      <td>55_0</td>\n",
       "      <td>55</td>\n",
       "      <td>0</td>\n",
       "      <td>On</td>\n",
       "      <td>updrs_1</td>\n",
       "      <td>10.0</td>\n",
       "      <td>11254.3</td>\n",
       "      <td>O00391</td>\n",
       "      <td>NEQEQPLGQWHLS</td>\n",
       "      <td>11254.3</td>\n",
       "    </tr>\n",
       "    <tr>\n",
       "      <th>1</th>\n",
       "      <td>55_0</td>\n",
       "      <td>55</td>\n",
       "      <td>0</td>\n",
       "      <td>On</td>\n",
       "      <td>updrs_1</td>\n",
       "      <td>10.0</td>\n",
       "      <td>732430.0</td>\n",
       "      <td>O00533</td>\n",
       "      <td>GNPEPTFSWTK</td>\n",
       "      <td>102060.0</td>\n",
       "    </tr>\n",
       "    <tr>\n",
       "      <th>2</th>\n",
       "      <td>55_0</td>\n",
       "      <td>55</td>\n",
       "      <td>0</td>\n",
       "      <td>On</td>\n",
       "      <td>updrs_1</td>\n",
       "      <td>10.0</td>\n",
       "      <td>732430.0</td>\n",
       "      <td>O00533</td>\n",
       "      <td>IEIPSSVQQVPTIIK</td>\n",
       "      <td>174185.0</td>\n",
       "    </tr>\n",
       "    <tr>\n",
       "      <th>3</th>\n",
       "      <td>55_0</td>\n",
       "      <td>55</td>\n",
       "      <td>0</td>\n",
       "      <td>On</td>\n",
       "      <td>updrs_1</td>\n",
       "      <td>10.0</td>\n",
       "      <td>732430.0</td>\n",
       "      <td>O00533</td>\n",
       "      <td>KPQSAVYSTGSNGILLC(UniMod_4)EAEGEPQPTIK</td>\n",
       "      <td>27278.9</td>\n",
       "    </tr>\n",
       "    <tr>\n",
       "      <th>4</th>\n",
       "      <td>55_0</td>\n",
       "      <td>55</td>\n",
       "      <td>0</td>\n",
       "      <td>On</td>\n",
       "      <td>updrs_1</td>\n",
       "      <td>10.0</td>\n",
       "      <td>732430.0</td>\n",
       "      <td>O00533</td>\n",
       "      <td>SMEQNGPGLEYR</td>\n",
       "      <td>30838.7</td>\n",
       "    </tr>\n",
       "  </tbody>\n",
       "</table>\n",
       "</div>"
      ],
      "text/plain": [
       "  visit_id patient_id visit_month on_medication    updrs rating       NPX  \\\n",
       "0     55_0         55           0            On  updrs_1   10.0   11254.3   \n",
       "1     55_0         55           0            On  updrs_1   10.0  732430.0   \n",
       "2     55_0         55           0            On  updrs_1   10.0  732430.0   \n",
       "3     55_0         55           0            On  updrs_1   10.0  732430.0   \n",
       "4     55_0         55           0            On  updrs_1   10.0  732430.0   \n",
       "\n",
       "  UniProt                                 Peptide  PeptideAbundance  \n",
       "0  O00391                           NEQEQPLGQWHLS           11254.3  \n",
       "1  O00533                             GNPEPTFSWTK          102060.0  \n",
       "2  O00533                         IEIPSSVQQVPTIIK          174185.0  \n",
       "3  O00533  KPQSAVYSTGSNGILLC(UniMod_4)EAEGEPQPTIK           27278.9  \n",
       "4  O00533                            SMEQNGPGLEYR           30838.7  "
      ]
     },
     "execution_count": 24,
     "metadata": {},
     "output_type": "execute_result"
    }
   ],
   "source": [
    "data = merged_df2.merge(merge_data[['visit_id', 'visit_month', 'patient_id', 'NPX', 'UniProt', 'Peptide','PeptideAbundance']], on = ['visit_id','visit_month', 'patient_id'], how = 'left').rename(columns={'upd23b_clinical_state_on_medication': 'on_medication'})\n",
    "data.head()"
   ]
  },
  {
   "cell_type": "code",
   "execution_count": 25,
   "metadata": {
    "colab": {
     "base_uri": "https://localhost:8080/"
    },
    "executionInfo": {
     "elapsed": 3963,
     "status": "ok",
     "timestamp": 1695217792351,
     "user": {
      "displayName": "Obaid Shaik",
      "userId": "14140449860982082300"
     },
     "user_tz": -330
    },
    "id": "C0rLZVPtFlzv",
    "outputId": "464d8d38-37b9-45f3-e995-df8156632b1a"
   },
   "outputs": [
    {
     "data": {
      "text/plain": [
       "visit_id                0\n",
       "patient_id              0\n",
       "visit_month             0\n",
       "on_medication           0\n",
       "updrs                   0\n",
       "rating                  0\n",
       "NPX                 15080\n",
       "UniProt             15080\n",
       "Peptide             15080\n",
       "PeptideAbundance    15080\n",
       "dtype: int64"
      ]
     },
     "execution_count": 25,
     "metadata": {},
     "output_type": "execute_result"
    }
   ],
   "source": [
    "data.isnull().sum()"
   ]
  },
  {
   "cell_type": "code",
   "execution_count": 26,
   "metadata": {
    "colab": {
     "base_uri": "https://localhost:8080/"
    },
    "executionInfo": {
     "elapsed": 13,
     "status": "ok",
     "timestamp": 1695217792352,
     "user": {
      "displayName": "Obaid Shaik",
      "userId": "14140449860982082300"
     },
     "user_tz": -330
    },
    "id": "cFxwnfY9IC1Q",
    "outputId": "7ab2680f-f8ab-4c1b-f8bf-6a4527a9b859"
   },
   "outputs": [
    {
     "data": {
      "text/plain": [
       "(3782056, 10)"
      ]
     },
     "execution_count": 26,
     "metadata": {},
     "output_type": "execute_result"
    }
   ],
   "source": [
    "data.shape"
   ]
  },
  {
   "cell_type": "code",
   "execution_count": 27,
   "metadata": {
    "executionInfo": {
     "elapsed": 12659,
     "status": "ok",
     "timestamp": 1695217805001,
     "user": {
      "displayName": "Obaid Shaik",
      "userId": "14140449860982082300"
     },
     "user_tz": -330
    },
    "id": "kKTfzTxUIJpy"
   },
   "outputs": [],
   "source": [
    "\n",
    "imputer = SimpleImputer(strategy='most_frequent')\n",
    "data_imputed = imputer.fit_transform(data)\n",
    "data = pd.DataFrame(data_imputed, columns=data.columns)\n"
   ]
  },
  {
   "cell_type": "code",
   "execution_count": 29,
   "metadata": {
    "colab": {
     "base_uri": "https://localhost:8080/"
    },
    "executionInfo": {
     "elapsed": 717,
     "status": "ok",
     "timestamp": 1695217808851,
     "user": {
      "displayName": "Obaid Shaik",
      "userId": "14140449860982082300"
     },
     "user_tz": -330
    },
    "id": "1g70BQkYKKVc",
    "outputId": "8d4b3fa1-9ad7-48ec-b759-5e28ebf466bb"
   },
   "outputs": [
    {
     "data": {
      "text/plain": [
       "visit_id            0\n",
       "patient_id          0\n",
       "visit_month         0\n",
       "on_medication       0\n",
       "updrs               0\n",
       "rating              0\n",
       "NPX                 0\n",
       "UniProt             0\n",
       "Peptide             0\n",
       "PeptideAbundance    0\n",
       "dtype: int64"
      ]
     },
     "execution_count": 29,
     "metadata": {},
     "output_type": "execute_result"
    }
   ],
   "source": [
    "data.isnull().sum()"
   ]
  },
  {
   "cell_type": "code",
   "execution_count": 30,
   "metadata": {
    "colab": {
     "base_uri": "https://localhost:8080/"
    },
    "executionInfo": {
     "elapsed": 30,
     "status": "ok",
     "timestamp": 1695217808854,
     "user": {
      "displayName": "Obaid Shaik",
      "userId": "14140449860982082300"
     },
     "user_tz": -330
    },
    "id": "S3xszzK0KNVb",
    "outputId": "3ed45396-35b2-46e8-97ff-6d7d807681bd"
   },
   "outputs": [
    {
     "name": "stdout",
     "output_type": "stream",
     "text": [
      "<class 'pandas.core.frame.DataFrame'>\n",
      "RangeIndex: 3782056 entries, 0 to 3782055\n",
      "Data columns (total 10 columns):\n",
      " #   Column            Dtype \n",
      "---  ------            ----- \n",
      " 0   visit_id          object\n",
      " 1   patient_id        object\n",
      " 2   visit_month       object\n",
      " 3   on_medication     object\n",
      " 4   updrs             object\n",
      " 5   rating            object\n",
      " 6   NPX               object\n",
      " 7   UniProt           object\n",
      " 8   Peptide           object\n",
      " 9   PeptideAbundance  object\n",
      "dtypes: object(10)\n",
      "memory usage: 288.5+ MB\n"
     ]
    }
   ],
   "source": [
    "data.info()"
   ]
  },
  {
   "cell_type": "code",
   "execution_count": 31,
   "metadata": {
    "colab": {
     "base_uri": "https://localhost:8080/",
     "height": 226
    },
    "executionInfo": {
     "elapsed": 29,
     "status": "ok",
     "timestamp": 1695217808858,
     "user": {
      "displayName": "Obaid Shaik",
      "userId": "14140449860982082300"
     },
     "user_tz": -330
    },
    "id": "Ye2fqjx7K6Cq",
    "outputId": "f04e6a36-32e8-422f-b4ca-54d03ff84027"
   },
   "outputs": [
    {
     "data": {
      "text/html": [
       "<div>\n",
       "<style scoped>\n",
       "    .dataframe tbody tr th:only-of-type {\n",
       "        vertical-align: middle;\n",
       "    }\n",
       "\n",
       "    .dataframe tbody tr th {\n",
       "        vertical-align: top;\n",
       "    }\n",
       "\n",
       "    .dataframe thead th {\n",
       "        text-align: right;\n",
       "    }\n",
       "</style>\n",
       "<table border=\"1\" class=\"dataframe\">\n",
       "  <thead>\n",
       "    <tr style=\"text-align: right;\">\n",
       "      <th></th>\n",
       "      <th>visit_id</th>\n",
       "      <th>patient_id</th>\n",
       "      <th>visit_month</th>\n",
       "      <th>on_medication</th>\n",
       "      <th>updrs</th>\n",
       "      <th>rating</th>\n",
       "      <th>NPX</th>\n",
       "      <th>UniProt</th>\n",
       "      <th>Peptide</th>\n",
       "      <th>PeptideAbundance</th>\n",
       "    </tr>\n",
       "  </thead>\n",
       "  <tbody>\n",
       "    <tr>\n",
       "      <th>0</th>\n",
       "      <td>55_0</td>\n",
       "      <td>55</td>\n",
       "      <td>0</td>\n",
       "      <td>On</td>\n",
       "      <td>updrs_1</td>\n",
       "      <td>10.0</td>\n",
       "      <td>11254.3</td>\n",
       "      <td>O00391</td>\n",
       "      <td>NEQEQPLGQWHLS</td>\n",
       "      <td>11254.3</td>\n",
       "    </tr>\n",
       "    <tr>\n",
       "      <th>1</th>\n",
       "      <td>55_0</td>\n",
       "      <td>55</td>\n",
       "      <td>0</td>\n",
       "      <td>On</td>\n",
       "      <td>updrs_1</td>\n",
       "      <td>10.0</td>\n",
       "      <td>732430.0</td>\n",
       "      <td>O00533</td>\n",
       "      <td>GNPEPTFSWTK</td>\n",
       "      <td>102060.0</td>\n",
       "    </tr>\n",
       "    <tr>\n",
       "      <th>2</th>\n",
       "      <td>55_0</td>\n",
       "      <td>55</td>\n",
       "      <td>0</td>\n",
       "      <td>On</td>\n",
       "      <td>updrs_1</td>\n",
       "      <td>10.0</td>\n",
       "      <td>732430.0</td>\n",
       "      <td>O00533</td>\n",
       "      <td>IEIPSSVQQVPTIIK</td>\n",
       "      <td>174185.0</td>\n",
       "    </tr>\n",
       "    <tr>\n",
       "      <th>3</th>\n",
       "      <td>55_0</td>\n",
       "      <td>55</td>\n",
       "      <td>0</td>\n",
       "      <td>On</td>\n",
       "      <td>updrs_1</td>\n",
       "      <td>10.0</td>\n",
       "      <td>732430.0</td>\n",
       "      <td>O00533</td>\n",
       "      <td>KPQSAVYSTGSNGILLC(UniMod_4)EAEGEPQPTIK</td>\n",
       "      <td>27278.9</td>\n",
       "    </tr>\n",
       "    <tr>\n",
       "      <th>4</th>\n",
       "      <td>55_0</td>\n",
       "      <td>55</td>\n",
       "      <td>0</td>\n",
       "      <td>On</td>\n",
       "      <td>updrs_1</td>\n",
       "      <td>10.0</td>\n",
       "      <td>732430.0</td>\n",
       "      <td>O00533</td>\n",
       "      <td>SMEQNGPGLEYR</td>\n",
       "      <td>30838.7</td>\n",
       "    </tr>\n",
       "  </tbody>\n",
       "</table>\n",
       "</div>"
      ],
      "text/plain": [
       "  visit_id patient_id visit_month on_medication    updrs rating       NPX  \\\n",
       "0     55_0         55           0            On  updrs_1   10.0   11254.3   \n",
       "1     55_0         55           0            On  updrs_1   10.0  732430.0   \n",
       "2     55_0         55           0            On  updrs_1   10.0  732430.0   \n",
       "3     55_0         55           0            On  updrs_1   10.0  732430.0   \n",
       "4     55_0         55           0            On  updrs_1   10.0  732430.0   \n",
       "\n",
       "  UniProt                                 Peptide PeptideAbundance  \n",
       "0  O00391                           NEQEQPLGQWHLS          11254.3  \n",
       "1  O00533                             GNPEPTFSWTK         102060.0  \n",
       "2  O00533                         IEIPSSVQQVPTIIK         174185.0  \n",
       "3  O00533  KPQSAVYSTGSNGILLC(UniMod_4)EAEGEPQPTIK          27278.9  \n",
       "4  O00533                            SMEQNGPGLEYR          30838.7  "
      ]
     },
     "execution_count": 31,
     "metadata": {},
     "output_type": "execute_result"
    }
   ],
   "source": [
    "data.head()"
   ]
  },
  {
   "cell_type": "code",
   "execution_count": 32,
   "metadata": {
    "colab": {
     "base_uri": "https://localhost:8080/"
    },
    "executionInfo": {
     "elapsed": 27,
     "status": "ok",
     "timestamp": 1695217808859,
     "user": {
      "displayName": "Obaid Shaik",
      "userId": "14140449860982082300"
     },
     "user_tz": -330
    },
    "id": "9y2RY346LWtp",
    "outputId": "e97616d6-e7c7-421e-b570-311a38bd3e1b"
   },
   "outputs": [
    {
     "data": {
      "text/plain": [
       "(3782056, 10)"
      ]
     },
     "execution_count": 32,
     "metadata": {},
     "output_type": "execute_result"
    }
   ],
   "source": [
    "data.shape"
   ]
  },
  {
   "cell_type": "code",
   "execution_count": 33,
   "metadata": {
    "executionInfo": {
     "elapsed": 24,
     "status": "ok",
     "timestamp": 1695217808860,
     "user": {
      "displayName": "Obaid Shaik",
      "userId": "14140449860982082300"
     },
     "user_tz": -330
    },
    "id": "f42egDCXMcXT"
   },
   "outputs": [],
   "source": [
    "y = data['rating']\n",
    "X = data[['on_medication', 'updrs', 'NPX', 'PeptideAbundance']]"
   ]
  },
  {
   "cell_type": "code",
   "execution_count": 34,
   "metadata": {
    "executionInfo": {
     "elapsed": 25,
     "status": "ok",
     "timestamp": 1695217808862,
     "user": {
      "displayName": "Obaid Shaik",
      "userId": "14140449860982082300"
     },
     "user_tz": -330
    },
    "id": "sNadEoXiNHpa"
   },
   "outputs": [],
   "source": [
    "label_encoder = LabelEncoder()"
   ]
  },
  {
   "cell_type": "code",
   "execution_count": 35,
   "metadata": {
    "colab": {
     "base_uri": "https://localhost:8080/"
    },
    "executionInfo": {
     "elapsed": 5306,
     "status": "ok",
     "timestamp": 1695217814144,
     "user": {
      "displayName": "Obaid Shaik",
      "userId": "14140449860982082300"
     },
     "user_tz": -330
    },
    "id": "Hri-Ph1QvTmi",
    "outputId": "a2bcbe88-6acc-45a1-ec87-31128c32cd12"
   },
   "outputs": [],
   "source": [
    " #!pip install scikit-learn-intelex"
   ]
  },
  {
   "cell_type": "code",
   "execution_count": 36,
   "metadata": {
    "colab": {
     "base_uri": "https://localhost:8080/"
    },
    "executionInfo": {
     "elapsed": 7806,
     "status": "ok",
     "timestamp": 1695217821940,
     "user": {
      "displayName": "Obaid Shaik",
      "userId": "14140449860982082300"
     },
     "user_tz": -330
    },
    "id": "_-ficFO_1If-",
    "outputId": "29dc9008-ef77-41c2-ac89-2aad90c2aa6e"
   },
   "outputs": [],
   "source": [
    " #!pip install hummingbird-ml"
   ]
  },
  {
   "cell_type": "code",
   "execution_count": null,
   "metadata": {
    "colab": {
     "base_uri": "https://localhost:8080/"
    },
    "id": "6znr6FWtNxbF",
    "outputId": "23f83674-1924-490d-dfb2-1a4be2ba31e4",
    "scrolled": true
   },
   "outputs": [],
   "source": [
    "from sklearn.model_selection import train_test_split, StratifiedKFold\n",
    "from sklearn.preprocessing import StandardScaler\n",
    "from sklearn.ensemble import GradientBoostingClassifier, RandomForestClassifier\n",
    "from sklearn.neural_network import MLPClassifier\n",
    "from sklearn.linear_model import SGDClassifier\n",
    "from sklearn.metrics import roc_auc_score, accuracy_score, f1_score, precision_score, recall_score\n",
    "import joblib\n",
    "import time\n",
    "\n",
    "\n",
    "\n",
    "X = data[['on_medication', 'updrs', 'NPX', 'PeptideAbundance']]\n",
    "y = data['rating']\n",
    "\n",
    "\n",
    "threshold = 5.0\n",
    "\n",
    "\n",
    "y = (data['rating'] > threshold).astype(int)\n",
    "\n",
    "\n",
    "label_encoder = LabelEncoder()\n",
    "X['on_medication'] = label_encoder.fit_transform(X['on_medication'])\n",
    "X['updrs'] = label_encoder.fit_transform(X['updrs'])\n",
    "\n",
    "\n",
    "scaler = StandardScaler()\n",
    "X = scaler.fit_transform(X)\n",
    "\n",
    "\n",
    "models = {\n",
    "    'Gradient Boosting': GradientBoostingClassifier(\n",
    "        learning_rate=0.01,\n",
    "        n_estimators=100,\n",
    "        max_depth=3,\n",
    "        subsample=0.8,\n",
    "        min_samples_split=2,\n",
    "        min_samples_leaf=1,\n",
    "        max_features=None,\n",
    "        loss='log_loss',\n",
    "    ),\n",
    "    'Neural Network': MLPClassifier(\n",
    "        hidden_layer_sizes=(300,),\n",
    "        activation='relu',\n",
    "        solver='adam',\n",
    "        alpha=0.0001,\n",
    "    ),\n",
    "    'Random Forest': RandomForestClassifier(n_estimators= 100,criterion= 'gini',random_state= 42),\n",
    "    'Stochastic Gradient Descent': SGDClassifier(\n",
    "        loss='hinge',\n",
    "        alpha=0.00001,\n",
    "        learning_rate='constant',\n",
    "        eta0=0.01,\n",
    "    ),\n",
    "\n",
    "}\n",
    "\n",
    "\n",
    "n_splits = 10\n",
    "skf = StratifiedKFold(n_splits=n_splits, shuffle=True, random_state=42)\n",
    "\n",
    "results = {}\n",
    "\n",
    "for model_name, model in models.items():\n",
    "    auc_scores = []\n",
    "    accuracy_scores = []\n",
    "    f1_scores = []\n",
    "    precision_scores = []\n",
    "    recall_scores = []\n",
    "\n",
    "    for fold_idx, (train_index, test_index) in enumerate(skf.split(X, y)):\n",
    "        X_train, X_test = X[train_index], X[test_index]\n",
    "        y_train, y_test = y.iloc[train_index], y.iloc[test_index]\n",
    "\n",
    "        print(f\"Running model: {model_name}, Fold: {fold_idx + 1}\")\n",
    "\n",
    "\n",
    "        start_time = time.time()  # Record start time\n",
    "\n",
    "        model.fit(X_train, y_train)\n",
    "        \n",
    "        end_time = time.time()  # Record end time\n",
    "        elapsed_time = end_time - start_time  # Calculate elapsed time\n",
    "\n",
    "        print(f\"Training time for Fold {fold_idx + 1}: {elapsed_time / 60:.2f} minutes\")\n",
    "        # model = convert(model, 'pytorch')\n",
    "\n",
    "        # model.to('cuda')\n",
    "        y_pred = model.predict(X_test)\n",
    "\n",
    "\n",
    "        auc = roc_auc_score(y_test, y_pred)\n",
    "        accuracy = accuracy_score(y_test, y_pred)\n",
    "        f1 = f1_score(y_test, y_pred)\n",
    "        precision = precision_score(y_test, y_pred)\n",
    "        recall = recall_score(y_test, y_pred)\n",
    "\n",
    "        auc_scores.append(auc)\n",
    "        accuracy_scores.append(accuracy)\n",
    "        f1_scores.append(f1)\n",
    "        precision_scores.append(precision)\n",
    "        recall_scores.append(recall)\n",
    "\n",
    "    avg_auc = np.mean(auc_scores)\n",
    "    avg_accuracy = np.mean(accuracy_scores)\n",
    "    avg_f1 = np.mean(f1_scores)\n",
    "    avg_precision = np.mean(precision_scores)\n",
    "    avg_recall = np.mean(recall_scores)\n",
    "\n",
    "    results[model_name] = {\n",
    "        'Average AUC': avg_auc,\n",
    "        'Average Accuracy': avg_accuracy,\n",
    "        'Average F1 Score': avg_f1,\n",
    "        'Average Precision': avg_precision,\n",
    "        'Average Recall': avg_recall\n",
    "    }\n",
    "\n",
    "    print(results)\n",
    "\n",
    "\n",
    "best_model_name = max(results, key=lambda k: results[k]['Average AUC'])\n",
    "best_model_results = results[best_model_name]\n",
    "\n",
    "print(f\"The best model is {best_model_name} with the following average results over {n_splits} folds:\")\n",
    "print(f\"Average AUC: {best_model_results['Average AUC']}\")\n",
    "print(f\"Average Accuracy: {best_model_results['Average Accuracy']}\")\n",
    "print(f\"Average F1 Score: {best_model_results['Average F1 Score']}\")\n",
    "print(f\"Average Precision: {best_model_results['Average Precision']}\")\n",
    "print(f\"Average Recall: {best_model_results['Average Recall']}\")\n",
    "\n",
    "\n",
    "\n",
    "best_model = models[best_model_name]\n",
    "best_model.fit(X, y)\n",
    "model_filename = \"best_model.joblib\"\n",
    "joblib.dump(best_model, model_filename)\n",
    "print(f\"The best model '{best_model_name}' has been saved to {model_filename}\")"
   ]
  },
  {
   "cell_type": "code",
   "execution_count": 37,
   "metadata": {},
   "outputs": [
    {
     "name": "stderr",
     "output_type": "stream",
     "text": [
      "C:\\Users\\H_7\\AppData\\Local\\Temp\\ipykernel_3772\\3725733495.py:17: SettingWithCopyWarning: \n",
      "A value is trying to be set on a copy of a slice from a DataFrame.\n",
      "Try using .loc[row_indexer,col_indexer] = value instead\n",
      "\n",
      "See the caveats in the documentation: https://pandas.pydata.org/pandas-docs/stable/user_guide/indexing.html#returning-a-view-versus-a-copy\n",
      "  X['on_medication'] = label_encoder.fit_transform(X['on_medication'])\n",
      "C:\\Users\\H_7\\AppData\\Local\\Temp\\ipykernel_3772\\3725733495.py:18: SettingWithCopyWarning: \n",
      "A value is trying to be set on a copy of a slice from a DataFrame.\n",
      "Try using .loc[row_indexer,col_indexer] = value instead\n",
      "\n",
      "See the caveats in the documentation: https://pandas.pydata.org/pandas-docs/stable/user_guide/indexing.html#returning-a-view-versus-a-copy\n",
      "  X['updrs'] = label_encoder.fit_transform(X['updrs'])\n"
     ]
    },
    {
     "name": "stdout",
     "output_type": "stream",
     "text": [
      "Running model: Gradient Boosting, Fold: 1\n",
      "Training time for Fold 1: 7.64 minutes\n",
      "Running model: Gradient Boosting, Fold: 2\n",
      "Training time for Fold 2: 7.62 minutes\n",
      "Running model: Gradient Boosting, Fold: 3\n",
      "Training time for Fold 3: 7.78 minutes\n",
      "Running model: Gradient Boosting, Fold: 4\n",
      "Training time for Fold 4: 8.53 minutes\n",
      "Running model: Gradient Boosting, Fold: 5\n",
      "Training time for Fold 5: 8.04 minutes\n",
      "Running model: Gradient Boosting, Fold: 6\n",
      "Training time for Fold 6: 7.61 minutes\n",
      "Running model: Gradient Boosting, Fold: 7\n",
      "Training time for Fold 7: 7.63 minutes\n",
      "Running model: Gradient Boosting, Fold: 8\n",
      "Training time for Fold 8: 7.60 minutes\n",
      "Running model: Gradient Boosting, Fold: 9\n",
      "Training time for Fold 9: 7.65 minutes\n",
      "Running model: Gradient Boosting, Fold: 10\n",
      "Training time for Fold 10: 7.64 minutes\n",
      "{'Gradient Boosting': {'Average AUC': 0.7015085024202853, 'Average Accuracy': 0.7206397790857124, 'Average F1 Score': 0.6362835385043649, 'Average Precision': 0.6894528350534668, 'Average Recall': 0.5907287768937592}}\n",
      "Running model: Neural Network, Fold: 1\n",
      "Training time for Fold 1: 22.80 minutes\n",
      "Running model: Neural Network, Fold: 2\n",
      "Training time for Fold 2: 22.66 minutes\n",
      "Running model: Neural Network, Fold: 3\n",
      "Training time for Fold 3: 22.70 minutes\n",
      "Running model: Neural Network, Fold: 4\n",
      "Training time for Fold 4: 22.92 minutes\n",
      "Running model: Neural Network, Fold: 5\n",
      "Training time for Fold 5: 22.80 minutes\n",
      "Running model: Neural Network, Fold: 6\n",
      "Training time for Fold 6: 22.52 minutes\n",
      "Running model: Neural Network, Fold: 7\n",
      "Training time for Fold 7: 23.50 minutes\n",
      "Running model: Neural Network, Fold: 8\n",
      "Training time for Fold 8: 24.88 minutes\n",
      "Running model: Neural Network, Fold: 9\n",
      "Training time for Fold 9: 22.91 minutes\n",
      "Running model: Neural Network, Fold: 10\n",
      "Training time for Fold 10: 20.53 minutes\n",
      "{'Gradient Boosting': {'Average AUC': 0.7015085024202853, 'Average Accuracy': 0.7206397790857124, 'Average F1 Score': 0.6362835385043649, 'Average Precision': 0.6894528350534668, 'Average Recall': 0.5907287768937592}, 'Neural Network': {'Average AUC': 0.7014994226426766, 'Average Accuracy': 0.7206093723313984, 'Average F1 Score': 0.6363027570343049, 'Average Precision': 0.6893435909452938, 'Average Recall': 0.5908431931245857}}\n",
      "Average Accuracy of both models: 0.7206245757085554\n"
     ]
    }
   ],
   "source": [
    "from sklearn.model_selection import train_test_split, StratifiedKFold\n",
    "from sklearn.preprocessing import StandardScaler, LabelEncoder\n",
    "from sklearn.ensemble import GradientBoostingClassifier\n",
    "from sklearn.neural_network import MLPClassifier\n",
    "from sklearn.metrics import roc_auc_score, accuracy_score, f1_score, precision_score, recall_score\n",
    "import joblib\n",
    "import time\n",
    "import numpy as np\n",
    "\n",
    "threshold = 5.0  \n",
    "\n",
    "X = data[['on_medication', 'updrs', 'NPX', 'PeptideAbundance']]\n",
    "y = (data['rating'] > threshold).astype(int)\n",
    "\n",
    "\n",
    "label_encoder = LabelEncoder()\n",
    "X['on_medication'] = label_encoder.fit_transform(X['on_medication'])\n",
    "X['updrs'] = label_encoder.fit_transform(X['updrs'])\n",
    "\n",
    "scaler = StandardScaler()\n",
    "X = scaler.fit_transform(X)\n",
    "\n",
    "models = {\n",
    "    'Gradient Boosting': GradientBoostingClassifier(\n",
    "        learning_rate=0.01,\n",
    "        n_estimators=100,\n",
    "        max_depth=3,\n",
    "        subsample=0.8,\n",
    "        min_samples_split=2,\n",
    "        min_samples_leaf=1,\n",
    "        max_features=None,\n",
    "        loss='log_loss',\n",
    "    ),\n",
    "    'Neural Network': MLPClassifier(\n",
    "        hidden_layer_sizes=(300,),\n",
    "        activation='relu',\n",
    "        solver='adam',\n",
    "        alpha=0.0001,\n",
    "    ),\n",
    "}\n",
    "\n",
    "n_splits = 10\n",
    "skf = StratifiedKFold(n_splits=n_splits, shuffle=True, random_state=42)\n",
    "\n",
    "results = {}\n",
    "\n",
    "sum_of_accuracies = 0.0  \n",
    "\n",
    "for model_name, model in models.items():\n",
    "    auc_scores = []\n",
    "    accuracy_scores = []\n",
    "    f1_scores = []\n",
    "    precision_scores = []\n",
    "    recall_scores = []\n",
    "\n",
    "    for fold_idx, (train_index, test_index) in enumerate(skf.split(X, y)):\n",
    "        X_train, X_test = X[train_index], X[test_index]\n",
    "        y_train, y_test = y.iloc[train_index], y.iloc[test_index]\n",
    "\n",
    "        print(f\"Running model: {model_name}, Fold: {fold_idx + 1}\")\n",
    "\n",
    "        start_time = time.time()  \n",
    "        model.fit(X_train, y_train)\n",
    "        end_time = time.time()  \n",
    "        elapsed_time = end_time - start_time  \n",
    "\n",
    "        print(f\"Training time for Fold {fold_idx + 1}: {elapsed_time / 60:.2f} minutes\")\n",
    "\n",
    "        y_pred = model.predict(X_test)\n",
    "\n",
    "        auc = roc_auc_score(y_test, y_pred)\n",
    "        accuracy = accuracy_score(y_test, y_pred)\n",
    "        f1 = f1_score(y_test, y_pred)\n",
    "        precision = precision_score(y_test, y_pred)\n",
    "        recall = recall_score(y_test, y_pred)\n",
    "\n",
    "        auc_scores.append(auc)\n",
    "        accuracy_scores.append(accuracy)\n",
    "        f1_scores.append(f1)\n",
    "        precision_scores.append(precision)\n",
    "        recall_scores.append(recall)\n",
    "\n",
    "    avg_auc = np.mean(auc_scores)\n",
    "    avg_accuracy = np.mean(accuracy_scores)\n",
    "    avg_f1 = np.mean(f1_scores)\n",
    "    avg_precision = np.mean(precision_scores)\n",
    "    avg_recall = np.mean(recall_scores)\n",
    "\n",
    "    results[model_name] = {\n",
    "        'Average AUC': avg_auc,\n",
    "        'Average Accuracy': avg_accuracy,\n",
    "        'Average F1 Score': avg_f1,\n",
    "        'Average Precision': avg_precision,\n",
    "        'Average Recall': avg_recall\n",
    "    }\n",
    "\n",
    "    sum_of_accuracies += avg_accuracy \n",
    "\n",
    "    print(results)\n",
    "\n",
    "average_accuracy = sum_of_accuracies / len(models)\n",
    "\n",
    "print(f\"Average Accuracy of both models: {average_accuracy}\")\n"
   ]
  },
  {
   "cell_type": "code",
   "execution_count": 37,
   "metadata": {},
   "outputs": [
    {
     "name": "stderr",
     "output_type": "stream",
     "text": [
      "C:\\Users\\H_7\\AppData\\Local\\Temp\\ipykernel_5456\\643630167.py:16: SettingWithCopyWarning: \n",
      "A value is trying to be set on a copy of a slice from a DataFrame.\n",
      "Try using .loc[row_indexer,col_indexer] = value instead\n",
      "\n",
      "See the caveats in the documentation: https://pandas.pydata.org/pandas-docs/stable/user_guide/indexing.html#returning-a-view-versus-a-copy\n",
      "  X['on_medication'] = label_encoder.fit_transform(X['on_medication'])\n",
      "C:\\Users\\H_7\\AppData\\Local\\Temp\\ipykernel_5456\\643630167.py:17: SettingWithCopyWarning: \n",
      "A value is trying to be set on a copy of a slice from a DataFrame.\n",
      "Try using .loc[row_indexer,col_indexer] = value instead\n",
      "\n",
      "See the caveats in the documentation: https://pandas.pydata.org/pandas-docs/stable/user_guide/indexing.html#returning-a-view-versus-a-copy\n",
      "  X['updrs'] = label_encoder.fit_transform(X['updrs'])\n"
     ]
    },
    {
     "name": "stdout",
     "output_type": "stream",
     "text": [
      "Combined Models (Across Folds):\n",
      "Accuracy: 0.7206\n",
      "Precision: 0.6895\n",
      "Recall: 0.5907\n",
      "F1 Score: 0.6363\n",
      "AUC Score: 0.7967\n"
     ]
    }
   ],
   "source": [
    "from sklearn.model_selection import train_test_split, StratifiedKFold\n",
    "from sklearn.preprocessing import StandardScaler, LabelEncoder\n",
    "from sklearn.ensemble import GradientBoostingClassifier\n",
    "from sklearn.neural_network import MLPClassifier\n",
    "from sklearn.metrics import roc_auc_score, accuracy_score, f1_score, precision_score, recall_score\n",
    "import joblib\n",
    "import time\n",
    "import numpy as np\n",
    "\n",
    "threshold = 5.0  \n",
    "\n",
    "X = data[['on_medication', 'updrs', 'NPX', 'PeptideAbundance']]\n",
    "y = (data['rating'] > threshold).astype(int)\n",
    "\n",
    "label_encoder = LabelEncoder()\n",
    "X['on_medication'] = label_encoder.fit_transform(X['on_medication'])\n",
    "X['updrs'] = label_encoder.fit_transform(X['updrs'])\n",
    "\n",
    "scaler = StandardScaler()\n",
    "X = scaler.fit_transform(X)\n",
    "\n",
    "models = {\n",
    "    'Gradient Boosting': GradientBoostingClassifier(\n",
    "        learning_rate=0.01,\n",
    "        n_estimators=100,\n",
    "        max_depth=3,\n",
    "        subsample=0.8,\n",
    "        min_samples_split=2,\n",
    "        min_samples_leaf=1,\n",
    "        max_features=None,\n",
    "        loss='log_loss',\n",
    "    ),\n",
    "    'Neural Network': MLPClassifier(\n",
    "        hidden_layer_sizes=(300,),\n",
    "        activation='relu',\n",
    "        solver='adam',\n",
    "        alpha=0.0001,\n",
    "    ),\n",
    "}\n",
    "\n",
    "\n",
    "metrics = ['Accuracy', 'Precision', 'Recall', 'F1 Score', 'AUC Score']\n",
    "\n",
    "combined_results = {}\n",
    "combined_metrics = {metric: [] for metric in metrics}\n",
    "\n",
    "n_splits = 10\n",
    "skf = StratifiedKFold(n_splits=n_splits, shuffle=True, random_state=42)\n",
    "\n",
    "for fold_idx, (train_index, test_index) in enumerate(skf.split(X, y)):\n",
    "    X_train, X_test = X[train_index], X[test_index]\n",
    "    y_train, y_test = y.iloc[train_index], y.iloc[test_index]\n",
    "\n",
    "    combined_predictions = None  \n",
    "\n",
    "    for model_name, model in models.items():\n",
    "        model.fit(X_train, y_train)\n",
    "        y_pred = model.predict_proba(X_test)[:, 1]  \n",
    "        \n",
    "        if combined_predictions is None:\n",
    "            combined_predictions = y_pred\n",
    "        else:\n",
    "            combined_predictions += y_pred \n",
    "\n",
    "    combined_predictions /= len(models)  \n",
    "    y_pred_combined = (combined_predictions > 0.5).astype(int)  \n",
    "\n",
    "    accuracy = accuracy_score(y_test, y_pred_combined)\n",
    "    precision = precision_score(y_test, y_pred_combined)\n",
    "    recall = recall_score(y_test, y_pred_combined)\n",
    "    f1 = f1_score(y_test, y_pred_combined)\n",
    "    auc = roc_auc_score(y_test, combined_predictions)\n",
    "\n",
    "    combined_metrics['Accuracy'].append(accuracy)\n",
    "    combined_metrics['Precision'].append(precision)\n",
    "    combined_metrics['Recall'].append(recall)\n",
    "    combined_metrics['F1 Score'].append(f1)\n",
    "    combined_metrics['AUC Score'].append(auc)\n",
    "\n",
    "average_metrics_combined = {metric: np.mean(values) for metric, values in combined_metrics.items()}\n",
    "\n",
    "print(\"Combined Models (Across Folds):\")\n",
    "for metric, value in average_metrics_combined.items():\n",
    "    print(f\"{metric}: {value:.4f}\")\n"
   ]
  },
  {
   "cell_type": "code",
   "execution_count": null,
   "metadata": {},
   "outputs": [],
   "source": []
  }
 ],
 "metadata": {
  "accelerator": "GPU",
  "colab": {
   "gpuType": "T4",
   "provenance": []
  },
  "kernelspec": {
   "display_name": "Python 3 (ipykernel)",
   "language": "python",
   "name": "python3"
  },
  "language_info": {
   "codemirror_mode": {
    "name": "ipython",
    "version": 3
   },
   "file_extension": ".py",
   "mimetype": "text/x-python",
   "name": "python",
   "nbconvert_exporter": "python",
   "pygments_lexer": "ipython3",
   "version": "3.11.5"
  }
 },
 "nbformat": 4,
 "nbformat_minor": 4
}
